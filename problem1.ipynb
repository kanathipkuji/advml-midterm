{
 "cells": [
  {
   "cell_type": "code",
   "execution_count": 43,
   "metadata": {},
   "outputs": [],
   "source": [
    "# requirements\n",
    "import numpy as np\n",
    "import matplotlib.pyplot as plt\n",
    "import cvxpy as cv"
   ]
  },
  {
   "cell_type": "markdown",
   "metadata": {},
   "source": [
    "# Dataset IV"
   ]
  },
  {
   "cell_type": "code",
   "execution_count": 44,
   "metadata": {},
   "outputs": [
    {
     "data": {
      "text/plain": [
       "(200,)"
      ]
     },
     "execution_count": 44,
     "metadata": {},
     "output_type": "execute_result"
    }
   ],
   "source": [
    "# dataset 4\n",
    "n = 200\n",
    "x = 3 * (np.random.rand(n, 4) - 0.5)\n",
    "y = (2 * x[:, 0] - 1 * x[:, 1] + 0.5 + 0.5 * np.random.randn(n)) > 0\n",
    "y = 2 * y - 1\n",
    "y.shape"
   ]
  },
  {
   "cell_type": "code",
   "execution_count": 45,
   "metadata": {},
   "outputs": [],
   "source": [
    "num_iter = 100\n",
    "alpha = 1\n",
    "lam = 0.01\n",
    "# lip = 0.5 * (np.linalg.norm(x, ord='fro') ** 2)\n",
    "# lip"
   ]
  },
  {
   "cell_type": "code",
   "execution_count": 46,
   "metadata": {},
   "outputs": [],
   "source": [
    "# lip = 0.5 * (np.max(x)**2)\n",
    "# lip"
   ]
  },
  {
   "cell_type": "markdown",
   "metadata": {},
   "source": [
    "# Gradient Descent"
   ]
  },
  {
   "cell_type": "code",
   "execution_count": 47,
   "metadata": {},
   "outputs": [
    {
     "data": {
      "text/plain": [
       "(4,)"
      ]
     },
     "execution_count": 47,
     "metadata": {},
     "output_type": "execute_result"
    }
   ],
   "source": [
    "loss_hist_batch_steepest_gradient = []\n",
    "w = np.zeros_like(x[0])\n",
    "w.shape"
   ]
  },
  {
   "cell_type": "code",
   "execution_count": 48,
   "metadata": {},
   "outputs": [],
   "source": [
    "for t in range(num_iter):\n",
    "    expo = 1 + np.exp(-y * (x @ w))\n",
    "    posterior = 1 / expo\n",
    "    res = ((1 - posterior) * y * x.T).T\n",
    "    grad =  -np.sum(res, axis=0) + 2 * lam * w\n",
    "\n",
    "    s = np.diag(posterior * (1 - posterior))\n",
    "    hess =  (x.T @ s @ x) + 2 * lam * np.eye(w.shape[0])\n",
    "    direction = -grad\n",
    "    \n",
    "    loss = np.sum(np.log(expo)) + lam * (w.T @ w)\n",
    "    # print(loss.shape)\n",
    "    loss_hist_batch_steepest_gradient.append(loss)\n",
    "    # ww = ww + alpha * 1.0 / np.sqrt(t) / lip * direction\n",
    "    lip = np.max(np.linalg.eigvals(hess))\n",
    "    w = w + alpha * direction / lip\n"
   ]
  },
  {
   "cell_type": "code",
   "execution_count": 49,
   "metadata": {},
   "outputs": [
    {
     "name": "stdout",
     "output_type": "stream",
     "text": [
      "39.48057476931164\n"
     ]
    }
   ],
   "source": [
    "print(min(loss_hist_batch_steepest_gradient))"
   ]
  },
  {
   "cell_type": "code",
   "execution_count": 50,
   "metadata": {},
   "outputs": [
    {
     "data": {
      "text/plain": [
       "Text(0, 0.5, 'loss')"
      ]
     },
     "execution_count": 50,
     "metadata": {},
     "output_type": "execute_result"
    },
    {
     "data": {
      "image/png": "[encoded data removed]",
      "text/plain": [
       "<Figure size 640x480 with 1 Axes>"
      ]
     },
     "metadata": {},
     "output_type": "display_data"
    }
   ],
   "source": [
    "plt.plot(loss_hist_batch_steepest_gradient, 'bo-', linewidth=0.5, markersize=0.5, label='steepest')\n",
    "plt.legend()\n",
    "plt.xlabel('iterations')\n",
    "plt.ylabel('loss')"
   ]
  },
  {
   "cell_type": "markdown",
   "metadata": {},
   "source": [
    "# Newton's Method"
   ]
  },
  {
   "cell_type": "code",
   "execution_count": 51,
   "metadata": {},
   "outputs": [
    {
     "data": {
      "text/plain": [
       "(4,)"
      ]
     },
     "execution_count": 51,
     "metadata": {},
     "output_type": "execute_result"
    }
   ],
   "source": [
    "loss_hist_newton = []\n",
    "w = np.zeros_like(x[0])\n",
    "w.shape"
   ]
  },
  {
   "cell_type": "code",
   "execution_count": 52,
   "metadata": {},
   "outputs": [],
   "source": [
    "w_list = []"
   ]
  },
  {
   "cell_type": "code",
   "execution_count": 53,
   "metadata": {},
   "outputs": [],
   "source": [
    "for t in range(num_iter):\n",
    "    expo = 1 + np.exp(-y * (x @ w))\n",
    "    posterior = 1 / expo\n",
    "    res = ((1 - posterior) * y * x.T).T\n",
    "    grad =  -np.sum(res, axis=0) + 2 * lam * w\n",
    "\n",
    "    s = np.diag(posterior * (1 - posterior))\n",
    "    hess =  (x.T @ s @ x) + 2 * lam * np.eye(w.shape[0])\n",
    "    # if t < 5:\n",
    "    #     print(hess.shape, hess)\n",
    "    direction = -np.linalg.inv(hess) @ grad\n",
    "\n",
    "    loss =  np.sum(np.log(expo)) + lam * (w.T @ w)\n",
    "    loss_hist_newton.append(loss)\n",
    "    w = w + alpha * direction\n",
    "    w_list.append(w)\n",
    "    # print(w.shape)\n",
    "    # print(grad, hess)"
   ]
  },
  {
   "cell_type": "code",
   "execution_count": 54,
   "metadata": {},
   "outputs": [],
   "source": [
    "# w_list"
   ]
  },
  {
   "cell_type": "code",
   "execution_count": 55,
   "metadata": {},
   "outputs": [],
   "source": [
    "# loss_hist_batch_steepest_gradient"
   ]
  },
  {
   "cell_type": "code",
   "execution_count": 56,
   "metadata": {},
   "outputs": [
    {
     "name": "stdout",
     "output_type": "stream",
     "text": [
      "39.48057239753518\n"
     ]
    }
   ],
   "source": [
    "# loss_hist_newton[:5]\n",
    "print(min(loss_hist_newton))"
   ]
  },
  {
   "cell_type": "code",
   "execution_count": 57,
   "metadata": {},
   "outputs": [
    {
     "data": {
      "text/plain": [
       "Text(0, 0.5, 'loss')"
      ]
     },
     "execution_count": 57,
     "metadata": {},
     "output_type": "execute_result"
    },
    {
     "data": {
      "image/png": "[encoded data removed]",
      "text/plain": [
       "<Figure size 640x480 with 1 Axes>"
      ]
     },
     "metadata": {},
     "output_type": "display_data"
    }
   ],
   "source": [
    "plt.plot(loss_hist_newton, 'bo-', linewidth=0.5, markersize=0.5, label='newton')\n",
    "plt.legend()\n",
    "plt.xlabel('iterations')\n",
    "plt.ylabel('loss')"
   ]
  },
  {
   "cell_type": "code",
   "execution_count": 58,
   "metadata": {},
   "outputs": [
    {
     "name": "stdout",
     "output_type": "stream",
     "text": [
      "min_loss 39.48057239753518\n"
     ]
    },
    {
     "data": {
      "image/png": "[encoded data removed]",
      "text/plain": [
       "<Figure size 640x480 with 1 Axes>"
      ]
     },
     "metadata": {},
     "output_type": "display_data"
    }
   ],
   "source": [
    "min_loss = min(min(loss_hist_batch_steepest_gradient), min(loss_hist_newton))\n",
    "print('min_loss', min_loss)\n",
    "plt.plot(np.abs(loss_hist_batch_steepest_gradient - min_loss), 'bo-', linewidth=0.5, markersize=0.5, label='steepest')\n",
    "plt.plot(np.abs(loss_hist_newton - min_loss), 'ro-', linewidth=0.5, markersize=0.5, label='newton')\n",
    "plt.legend()\n",
    "plt.yscale('log')\n",
    "plt.xlabel('iteration')\n",
    "plt.ylabel('$|J(w^{(t)})-J(\\hat{w})|$')\n",
    "plt.show()"
   ]
  },
  {
   "cell_type": "code",
   "execution_count": null,
   "metadata": {},
   "outputs": [],
   "source": []
  },
  {
   "cell_type": "markdown",
   "metadata": {},
   "source": [
    "# EXAMPLE"
   ]
  },
  {
   "cell_type": "code",
   "execution_count": 59,
   "metadata": {},
   "outputs": [],
   "source": [
    "# # prepare dataset\n",
    "# np.random.seed(777)\n",
    "# n = 40\n",
    "# omega = np.random.randn()\n",
    "# noise = 0.8 * np.random.randn(n)\n",
    "# lam = 0.01\n",
    "# x = np.random.randn(n, 2)\n",
    "# y = 2 * (omega * x[:,0] + x[:,1] + noise > 0) - 1\n",
    "\n",
    "# plt.plot(np.extract(y>0,x[:,0]),np.extract(y>0,x[:,1]), 'x')\n",
    "# plt.plot(np.extract(y<0,x[:,0]),np.extract(y<0,x[:,1]), 'o')\n",
    "# plt.xlabel('x')\n",
    "# plt.ylabel('y')"
   ]
  },
  {
   "cell_type": "code",
   "execution_count": 60,
   "metadata": {},
   "outputs": [],
   "source": [
    "# # newton\n",
    "# ll_n_history = np.zeros(num_iter)\n",
    "# ww_n_history = np.zeros(num_iter)\n",
    "# ww = 3\n",
    "\n",
    "# for t in range(num_iter):\n",
    "#     posterior = 1 / (1 + np.exp(-y * (ww * x[:,0] + x[:,1])))\n",
    "    \n",
    "#     grad = 1 / n * np.sum((1 - posterior) * (-y) * x[:,0]) + 2 * lam * ww\n",
    "#     hess = 1 / n * np.sum(posterior * (1 - posterior) * x[:,0]**2) + 2 * lam\n",
    "#     ll = 1/n  * np.sum(np.log(1.0 + np.exp(-y * (ww * x[:,0] + x[:,1])))) + lam * (ww**2 + 1)\n",
    "#     ww_n_history[t] =  ww\n",
    "#     ll_n_history[t] = ll\n",
    "#     print(hess.shape)\n",
    "#     ww = ww - grad/hess * 1.0 / np.sqrt(t+10)\n",
    "\n",
    "# plt.plot(ww_n_history, ll_n_history, 'ro-', linewidth=0.5, markersize=0.5, label='newton')\n",
    "# plt.legend()\n",
    "# plt.xlabel('wight')\n",
    "# plt.ylabel('loss')"
   ]
  }
 ],
 "metadata": {
  "kernelspec": {
   "display_name": "Python 3",
   "language": "python",
   "name": "python3"
  },
  "language_info": {
   "codemirror_mode": {
    "name": "ipython",
    "version": 3
   },
   "file_extension": ".py",
   "mimetype": "text/x-python",
   "name": "python",
   "nbconvert_exporter": "python",
   "pygments_lexer": "ipython3",
   "version": "3.11.3"
  },
  "orig_nbformat": 4
 },
 "nbformat": 4,
 "nbformat_minor": 2
}
